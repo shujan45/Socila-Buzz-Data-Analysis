{
 "cells": [
  {
   "cell_type": "code",
   "execution_count": 89,
   "id": "c2b5a939-9f14-4263-9348-9cedc4373dcb",
   "metadata": {},
   "outputs": [],
   "source": [
    "import pandas as pd"
   ]
  },
  {
   "cell_type": "code",
   "execution_count": 14,
   "id": "9d4083e3-63f2-4eca-98a8-b49444398259",
   "metadata": {},
   "outputs": [
    {
     "data": {
      "text/html": [
       "<div>\n",
       "<style scoped>\n",
       "    .dataframe tbody tr th:only-of-type {\n",
       "        vertical-align: middle;\n",
       "    }\n",
       "\n",
       "    .dataframe tbody tr th {\n",
       "        vertical-align: top;\n",
       "    }\n",
       "\n",
       "    .dataframe thead th {\n",
       "        text-align: right;\n",
       "    }\n",
       "</style>\n",
       "<table border=\"1\" class=\"dataframe\">\n",
       "  <thead>\n",
       "    <tr style=\"text-align: right;\">\n",
       "      <th></th>\n",
       "      <th>Unnamed: 0</th>\n",
       "      <th>Content ID</th>\n",
       "      <th>User ID</th>\n",
       "      <th>Type</th>\n",
       "      <th>Category</th>\n",
       "      <th>URL</th>\n",
       "    </tr>\n",
       "  </thead>\n",
       "  <tbody>\n",
       "    <tr>\n",
       "      <th>943</th>\n",
       "      <td>943</td>\n",
       "      <td>62e3c102-b551-4625-b949-d589babb16d8</td>\n",
       "      <td>7b7b5825-2ae1-4119-99a7-e638f13267a0</td>\n",
       "      <td>photo</td>\n",
       "      <td>soccer</td>\n",
       "      <td>https://socialbuzz.cdn.com/content/storage/62e...</td>\n",
       "    </tr>\n",
       "    <tr>\n",
       "      <th>749</th>\n",
       "      <td>749</td>\n",
       "      <td>8945e374-9170-4799-b6b0-78fd9d5821a6</td>\n",
       "      <td>5fbf758a-376b-472c-8aca-a87ff1db3e6d</td>\n",
       "      <td>video</td>\n",
       "      <td>studying</td>\n",
       "      <td>https://socialbuzz.cdn.com/content/storage/894...</td>\n",
       "    </tr>\n",
       "    <tr>\n",
       "      <th>872</th>\n",
       "      <td>872</td>\n",
       "      <td>9b480f9e-cef3-46cc-8ea1-c116cded9661</td>\n",
       "      <td>c76c3393-88e2-47b0-ac37-dc4f2053f5a5</td>\n",
       "      <td>audio</td>\n",
       "      <td>public speaking</td>\n",
       "      <td>https://socialbuzz.cdn.com/content/storage/9b4...</td>\n",
       "    </tr>\n",
       "    <tr>\n",
       "      <th>350</th>\n",
       "      <td>350</td>\n",
       "      <td>ad5ddd13-b8ea-4174-ad71-da1663c7f959</td>\n",
       "      <td>15c2ba5b-eeb6-4d9b-a0e2-7d5461a21c0a</td>\n",
       "      <td>video</td>\n",
       "      <td>Technology</td>\n",
       "      <td>NaN</td>\n",
       "    </tr>\n",
       "    <tr>\n",
       "      <th>851</th>\n",
       "      <td>851</td>\n",
       "      <td>8b08e78c-4798-463a-b868-a0dc9fde777f</td>\n",
       "      <td>89572273-761e-46f3-8b99-1689d98aac90</td>\n",
       "      <td>GIF</td>\n",
       "      <td>public speaking</td>\n",
       "      <td>https://socialbuzz.cdn.com/content/storage/8b0...</td>\n",
       "    </tr>\n",
       "  </tbody>\n",
       "</table>\n",
       "</div>"
      ],
      "text/plain": [
       "     Unnamed: 0                            Content ID  \\\n",
       "943         943  62e3c102-b551-4625-b949-d589babb16d8   \n",
       "749         749  8945e374-9170-4799-b6b0-78fd9d5821a6   \n",
       "872         872  9b480f9e-cef3-46cc-8ea1-c116cded9661   \n",
       "350         350  ad5ddd13-b8ea-4174-ad71-da1663c7f959   \n",
       "851         851  8b08e78c-4798-463a-b868-a0dc9fde777f   \n",
       "\n",
       "                                  User ID   Type         Category  \\\n",
       "943  7b7b5825-2ae1-4119-99a7-e638f13267a0  photo           soccer   \n",
       "749  5fbf758a-376b-472c-8aca-a87ff1db3e6d  video         studying   \n",
       "872  c76c3393-88e2-47b0-ac37-dc4f2053f5a5  audio  public speaking   \n",
       "350  15c2ba5b-eeb6-4d9b-a0e2-7d5461a21c0a  video       Technology   \n",
       "851  89572273-761e-46f3-8b99-1689d98aac90    GIF  public speaking   \n",
       "\n",
       "                                                   URL  \n",
       "943  https://socialbuzz.cdn.com/content/storage/62e...  \n",
       "749  https://socialbuzz.cdn.com/content/storage/894...  \n",
       "872  https://socialbuzz.cdn.com/content/storage/9b4...  \n",
       "350                                                NaN  \n",
       "851  https://socialbuzz.cdn.com/content/storage/8b0...  "
      ]
     },
     "execution_count": 14,
     "metadata": {},
     "output_type": "execute_result"
    }
   ],
   "source": [
    "df_content=pd.read_csv(r\"Content.csv\")\n",
    "df_content.sample(5)"
   ]
  },
  {
   "cell_type": "code",
   "execution_count": 6,
   "id": "61fcf552-3a42-4c72-b57d-4b15c8cd9dca",
   "metadata": {},
   "outputs": [
    {
     "name": "stdout",
     "output_type": "stream",
     "text": [
      "<class 'pandas.core.frame.DataFrame'>\n",
      "RangeIndex: 1000 entries, 0 to 999\n",
      "Data columns (total 6 columns):\n",
      " #   Column      Non-Null Count  Dtype \n",
      "---  ------      --------------  ----- \n",
      " 0   Unnamed: 0  1000 non-null   int64 \n",
      " 1   Content ID  1000 non-null   object\n",
      " 2   User ID     1000 non-null   object\n",
      " 3   Type        1000 non-null   object\n",
      " 4   Category    1000 non-null   object\n",
      " 5   URL         801 non-null    object\n",
      "dtypes: int64(1), object(5)\n",
      "memory usage: 47.0+ KB\n"
     ]
    }
   ],
   "source": [
    "df_content.info()"
   ]
  },
  {
   "cell_type": "code",
   "execution_count": 17,
   "id": "5e9c04fa-85a0-4364-8fb2-9d08dc6d259d",
   "metadata": {},
   "outputs": [
    {
     "name": "stdout",
     "output_type": "stream",
     "text": [
      "<class 'pandas.core.frame.DataFrame'>\n",
      "RangeIndex: 1000 entries, 0 to 999\n",
      "Data columns (total 5 columns):\n",
      " #   Column      Non-Null Count  Dtype \n",
      "---  ------      --------------  ----- \n",
      " 0   Content ID  1000 non-null   object\n",
      " 1   User ID     1000 non-null   object\n",
      " 2   Type        1000 non-null   object\n",
      " 3   Category    1000 non-null   object\n",
      " 4   URL         801 non-null    object\n",
      "dtypes: object(5)\n",
      "memory usage: 39.2+ KB\n"
     ]
    }
   ],
   "source": [
    "# df_content.drop(columns=\"Unnamed: 0\",inplace=True)\n",
    "df_content.info()"
   ]
  },
  {
   "cell_type": "code",
   "execution_count": 20,
   "id": "dd82d960-eed4-4b44-a0b4-bc2c6168f668",
   "metadata": {},
   "outputs": [],
   "source": [
    "df_content.dropna(inplace=True)"
   ]
  },
  {
   "cell_type": "code",
   "execution_count": 23,
   "id": "d6f3af91-4ad9-4e37-80ad-a3834acccf88",
   "metadata": {},
   "outputs": [
    {
     "name": "stdout",
     "output_type": "stream",
     "text": [
      "<class 'pandas.core.frame.DataFrame'>\n",
      "Index: 801 entries, 0 to 999\n",
      "Data columns (total 5 columns):\n",
      " #   Column      Non-Null Count  Dtype \n",
      "---  ------      --------------  ----- \n",
      " 0   Content ID  801 non-null    object\n",
      " 1   User ID     801 non-null    object\n",
      " 2   Type        801 non-null    object\n",
      " 3   Category    801 non-null    object\n",
      " 4   URL         801 non-null    object\n",
      "dtypes: object(5)\n",
      "memory usage: 37.5+ KB\n"
     ]
    }
   ],
   "source": [
    "df_content.info()"
   ]
  },
  {
   "cell_type": "code",
   "execution_count": 33,
   "id": "8f35de6d-70a6-4580-ab67-5c12f6d38315",
   "metadata": {},
   "outputs": [],
   "source": [
    "content_category=df_content.groupby(['Category'])['User ID'].count().sort_values(ascending=False)"
   ]
  },
  {
   "cell_type": "code",
   "execution_count": 35,
   "id": "2b7472a7-02ef-4424-9324-bf4fef6da2e6",
   "metadata": {},
   "outputs": [
    {
     "data": {
      "text/plain": [
       "Category\n",
       "travel             60\n",
       "science            55\n",
       "technology         54\n",
       "culture            54\n",
       "fitness            54\n",
       "animals            54\n",
       "tennis             53\n",
       "cooking            51\n",
       "healthy eating     50\n",
       "dogs               49\n",
       "education          48\n",
       "food               47\n",
       "soccer             47\n",
       "veganism           43\n",
       "studying           41\n",
       "public speaking    40\n",
       "Studying            1\n",
       "Name: User ID, dtype: int64"
      ]
     },
     "execution_count": 35,
     "metadata": {},
     "output_type": "execute_result"
    }
   ],
   "source": [
    "content_category"
   ]
  },
  {
   "cell_type": "code",
   "execution_count": 38,
   "id": "b65cc76b-fba5-477a-907f-9d266bbdc709",
   "metadata": {},
   "outputs": [
    {
     "data": {
      "text/plain": [
       "Type\n",
       "photo    211\n",
       "video    209\n",
       "GIF      191\n",
       "audio    190\n",
       "Name: User ID, dtype: int64"
      ]
     },
     "execution_count": 38,
     "metadata": {},
     "output_type": "execute_result"
    }
   ],
   "source": [
    "content_type=df_content.groupby(['Type'])['User ID'].count().sort_values(ascending=False)\n",
    "content_type"
   ]
  },
  {
   "cell_type": "code",
   "execution_count": 48,
   "id": "2166e9b6-6157-4a59-99d5-1b2cb1151110",
   "metadata": {},
   "outputs": [
    {
     "data": {
      "text/plain": [
       "Type\n",
       "photo    1\n",
       "Name: User ID, dtype: int64"
      ]
     },
     "execution_count": 48,
     "metadata": {},
     "output_type": "execute_result"
    }
   ],
   "source": [
    "df_content.groupby(['Category','Type'])['User ID'].count().loc['Studying']"
   ]
  },
  {
   "cell_type": "code",
   "execution_count": 90,
   "id": "6232738d-3a27-41d8-85a3-47c443a03d62",
   "metadata": {},
   "outputs": [],
   "source": [
    "# df_content.drop(columns='User ID',inplace=True)\n",
    "df_content.rename(columns={'Type':\"Content Type\"},inplace=True)"
   ]
  },
  {
   "cell_type": "code",
   "execution_count": 91,
   "id": "eef78d8d-8001-4dd0-ad57-0e80beb9a8b6",
   "metadata": {},
   "outputs": [
    {
     "data": {
      "text/html": [
       "<div>\n",
       "<style scoped>\n",
       "    .dataframe tbody tr th:only-of-type {\n",
       "        vertical-align: middle;\n",
       "    }\n",
       "\n",
       "    .dataframe tbody tr th {\n",
       "        vertical-align: top;\n",
       "    }\n",
       "\n",
       "    .dataframe thead th {\n",
       "        text-align: right;\n",
       "    }\n",
       "</style>\n",
       "<table border=\"1\" class=\"dataframe\">\n",
       "  <thead>\n",
       "    <tr style=\"text-align: right;\">\n",
       "      <th></th>\n",
       "      <th>Content ID</th>\n",
       "      <th>Content Type</th>\n",
       "      <th>Category</th>\n",
       "      <th>URL</th>\n",
       "    </tr>\n",
       "  </thead>\n",
       "  <tbody>\n",
       "    <tr>\n",
       "      <th>854</th>\n",
       "      <td>2ceee25a-8461-4409-ab41-7a72d97d722d</td>\n",
       "      <td>photo</td>\n",
       "      <td>animals</td>\n",
       "      <td>https://socialbuzz.cdn.com/content/storage/2ce...</td>\n",
       "    </tr>\n",
       "    <tr>\n",
       "      <th>786</th>\n",
       "      <td>3f6b1a9d-db78-4d9a-a495-9de7bd9bbe5b</td>\n",
       "      <td>GIF</td>\n",
       "      <td>tennis</td>\n",
       "      <td>https://socialbuzz.cdn.com/content/storage/3f6...</td>\n",
       "    </tr>\n",
       "    <tr>\n",
       "      <th>497</th>\n",
       "      <td>b400ea0c-43f0-4307-a3b2-78e5784d69be</td>\n",
       "      <td>audio</td>\n",
       "      <td>fitness</td>\n",
       "      <td>https://socialbuzz.cdn.com/content/storage/b40...</td>\n",
       "    </tr>\n",
       "    <tr>\n",
       "      <th>421</th>\n",
       "      <td>88cbf75c-79f0-42cb-8733-af670f39d6e0</td>\n",
       "      <td>audio</td>\n",
       "      <td>animals</td>\n",
       "      <td>https://socialbuzz.cdn.com/content/storage/88c...</td>\n",
       "    </tr>\n",
       "    <tr>\n",
       "      <th>354</th>\n",
       "      <td>3b436c19-72fe-429a-80dd-88d24ef549d1</td>\n",
       "      <td>video</td>\n",
       "      <td>soccer</td>\n",
       "      <td>https://socialbuzz.cdn.com/content/storage/3b4...</td>\n",
       "    </tr>\n",
       "  </tbody>\n",
       "</table>\n",
       "</div>"
      ],
      "text/plain": [
       "                               Content ID Content Type Category  \\\n",
       "854  2ceee25a-8461-4409-ab41-7a72d97d722d        photo  animals   \n",
       "786  3f6b1a9d-db78-4d9a-a495-9de7bd9bbe5b          GIF   tennis   \n",
       "497  b400ea0c-43f0-4307-a3b2-78e5784d69be        audio  fitness   \n",
       "421  88cbf75c-79f0-42cb-8733-af670f39d6e0        audio  animals   \n",
       "354  3b436c19-72fe-429a-80dd-88d24ef549d1        video   soccer   \n",
       "\n",
       "                                                   URL  \n",
       "854  https://socialbuzz.cdn.com/content/storage/2ce...  \n",
       "786  https://socialbuzz.cdn.com/content/storage/3f6...  \n",
       "497  https://socialbuzz.cdn.com/content/storage/b40...  \n",
       "421  https://socialbuzz.cdn.com/content/storage/88c...  \n",
       "354  https://socialbuzz.cdn.com/content/storage/3b4...  "
      ]
     },
     "execution_count": 91,
     "metadata": {},
     "output_type": "execute_result"
    }
   ],
   "source": [
    "df_content.sample(5)"
   ]
  },
  {
   "cell_type": "code",
   "execution_count": 92,
   "id": "4f8d8611-df56-4525-9afc-4f1b4911d529",
   "metadata": {},
   "outputs": [],
   "source": [
    "df_content.to_csv(\"Cleaned_content\",index=False)"
   ]
  },
  {
   "cell_type": "markdown",
   "id": "ef2b091b-c7a0-49b5-9b23-4208d4ed1bb6",
   "metadata": {},
   "source": [
    "Reactions"
   ]
  },
  {
   "cell_type": "code",
   "execution_count": 57,
   "id": "d46ed7a6-9fc4-419d-b194-accb04ef75c7",
   "metadata": {},
   "outputs": [
    {
     "data": {
      "text/html": [
       "<div>\n",
       "<style scoped>\n",
       "    .dataframe tbody tr th:only-of-type {\n",
       "        vertical-align: middle;\n",
       "    }\n",
       "\n",
       "    .dataframe tbody tr th {\n",
       "        vertical-align: top;\n",
       "    }\n",
       "\n",
       "    .dataframe thead th {\n",
       "        text-align: right;\n",
       "    }\n",
       "</style>\n",
       "<table border=\"1\" class=\"dataframe\">\n",
       "  <thead>\n",
       "    <tr style=\"text-align: right;\">\n",
       "      <th></th>\n",
       "      <th>Content ID</th>\n",
       "      <th>User ID</th>\n",
       "      <th>Type</th>\n",
       "      <th>Datetime</th>\n",
       "    </tr>\n",
       "  </thead>\n",
       "  <tbody>\n",
       "    <tr>\n",
       "      <th>17997</th>\n",
       "      <td>7df4b13f-c41a-4c81-88fb-213a6a96acc5</td>\n",
       "      <td>a559688e-3f10-436f-a25e-8ad553eacb89</td>\n",
       "      <td>indifferent</td>\n",
       "      <td>2020-12-20 08:42:11</td>\n",
       "    </tr>\n",
       "    <tr>\n",
       "      <th>12151</th>\n",
       "      <td>1c77e474-0cc6-40ac-b48b-cbc511bffc77</td>\n",
       "      <td>ffdb3615-516c-422f-aa24-a137e3027d3a</td>\n",
       "      <td>cherish</td>\n",
       "      <td>2021-02-17 08:41:13</td>\n",
       "    </tr>\n",
       "    <tr>\n",
       "      <th>23489</th>\n",
       "      <td>56d13215-1444-49b0-8e17-3a888bcd4e1e</td>\n",
       "      <td>b1954833-b6a5-4c6c-9709-80686b7768c4</td>\n",
       "      <td>interested</td>\n",
       "      <td>2020-07-04 10:20:38</td>\n",
       "    </tr>\n",
       "    <tr>\n",
       "      <th>11779</th>\n",
       "      <td>1f0ed2b8-8531-416f-b694-a40a63f378a0</td>\n",
       "      <td>de050611-e926-43bb-b1ea-502d8bd25bfc</td>\n",
       "      <td>love</td>\n",
       "      <td>2020-12-26 08:16:14</td>\n",
       "    </tr>\n",
       "    <tr>\n",
       "      <th>10073</th>\n",
       "      <td>86f4e4df-636a-48f5-bb66-03ea4fd00214</td>\n",
       "      <td>9e9cf8e7-6731-47da-bc0f-3a487e835586</td>\n",
       "      <td>like</td>\n",
       "      <td>2021-05-12 03:07:13</td>\n",
       "    </tr>\n",
       "  </tbody>\n",
       "</table>\n",
       "</div>"
      ],
      "text/plain": [
       "                                 Content ID  \\\n",
       "17997  7df4b13f-c41a-4c81-88fb-213a6a96acc5   \n",
       "12151  1c77e474-0cc6-40ac-b48b-cbc511bffc77   \n",
       "23489  56d13215-1444-49b0-8e17-3a888bcd4e1e   \n",
       "11779  1f0ed2b8-8531-416f-b694-a40a63f378a0   \n",
       "10073  86f4e4df-636a-48f5-bb66-03ea4fd00214   \n",
       "\n",
       "                                    User ID         Type             Datetime  \n",
       "17997  a559688e-3f10-436f-a25e-8ad553eacb89  indifferent  2020-12-20 08:42:11  \n",
       "12151  ffdb3615-516c-422f-aa24-a137e3027d3a      cherish  2021-02-17 08:41:13  \n",
       "23489  b1954833-b6a5-4c6c-9709-80686b7768c4   interested  2020-07-04 10:20:38  \n",
       "11779  de050611-e926-43bb-b1ea-502d8bd25bfc         love  2020-12-26 08:16:14  \n",
       "10073  9e9cf8e7-6731-47da-bc0f-3a487e835586         like  2021-05-12 03:07:13  "
      ]
     },
     "execution_count": 57,
     "metadata": {},
     "output_type": "execute_result"
    }
   ],
   "source": [
    "df_reaction=pd.read_csv(r\"Reactions.csv\")\n",
    "df_reaction.drop(columns='Unnamed: 0',inplace=True)\n",
    "df_reaction.sample(5)"
   ]
  },
  {
   "cell_type": "code",
   "execution_count": 59,
   "id": "d3376507-0e12-4688-a01a-3864a4eaa2e6",
   "metadata": {},
   "outputs": [
    {
     "name": "stdout",
     "output_type": "stream",
     "text": [
      "<class 'pandas.core.frame.DataFrame'>\n",
      "RangeIndex: 25553 entries, 0 to 25552\n",
      "Data columns (total 4 columns):\n",
      " #   Column      Non-Null Count  Dtype \n",
      "---  ------      --------------  ----- \n",
      " 0   Content ID  25553 non-null  object\n",
      " 1   User ID     22534 non-null  object\n",
      " 2   Type        24573 non-null  object\n",
      " 3   Datetime    25553 non-null  object\n",
      "dtypes: object(4)\n",
      "memory usage: 798.7+ KB\n"
     ]
    }
   ],
   "source": [
    "df_reaction.info()"
   ]
  },
  {
   "cell_type": "code",
   "execution_count": 62,
   "id": "281fa02c-26d6-451a-91fe-16c62ad0015c",
   "metadata": {},
   "outputs": [
    {
     "name": "stdout",
     "output_type": "stream",
     "text": [
      "<class 'pandas.core.frame.DataFrame'>\n",
      "Index: 22534 entries, 1 to 25552\n",
      "Data columns (total 4 columns):\n",
      " #   Column      Non-Null Count  Dtype \n",
      "---  ------      --------------  ----- \n",
      " 0   Content ID  22534 non-null  object\n",
      " 1   User ID     22534 non-null  object\n",
      " 2   Type        22534 non-null  object\n",
      " 3   Datetime    22534 non-null  object\n",
      "dtypes: object(4)\n",
      "memory usage: 880.2+ KB\n"
     ]
    }
   ],
   "source": [
    "# df_reaction.dropna(inplace=True)\n",
    "df_reaction.info()"
   ]
  },
  {
   "cell_type": "code",
   "execution_count": 66,
   "id": "240cad9d-32f7-42cf-984e-c65cad5944ac",
   "metadata": {},
   "outputs": [
    {
     "data": {
      "text/plain": [
       "Type\n",
       "heart          1497\n",
       "peeking        1438\n",
       "scared         1436\n",
       "adore          1427\n",
       "interested     1425\n",
       "hate           1420\n",
       "love           1411\n",
       "disgust        1406\n",
       "dislike        1396\n",
       "want           1396\n",
       "super love     1393\n",
       "like           1391\n",
       "indifferent    1385\n",
       "cherish        1380\n",
       "worried        1379\n",
       "intrigued      1354\n",
       "Name: Content ID, dtype: int64"
      ]
     },
     "execution_count": 66,
     "metadata": {},
     "output_type": "execute_result"
    }
   ],
   "source": [
    "reaction_type=df_reaction.groupby(\"Type\")['Content ID'].count().sort_values(ascending=False)\n",
    "reaction_type"
   ]
  },
  {
   "cell_type": "code",
   "execution_count": 93,
   "id": "6ec81d57-4c33-44fa-9c75-6205ea469772",
   "metadata": {},
   "outputs": [],
   "source": [
    "# df_reaction.drop(columns='User ID',inplace=True)\n",
    "df_reaction.rename(columns={'Type':\"Reaction Type\"},inplace=True)"
   ]
  },
  {
   "cell_type": "code",
   "execution_count": 94,
   "id": "05515f5f-7b72-49e2-bdd6-cc9091b966fb",
   "metadata": {},
   "outputs": [
    {
     "name": "stdout",
     "output_type": "stream",
     "text": [
      "<class 'pandas.core.frame.DataFrame'>\n",
      "Index: 22534 entries, 1 to 25552\n",
      "Data columns (total 3 columns):\n",
      " #   Column         Non-Null Count  Dtype \n",
      "---  ------         --------------  ----- \n",
      " 0   Content ID     22534 non-null  object\n",
      " 1   Reaction Type  22534 non-null  object\n",
      " 2   Datetime       22534 non-null  object\n",
      "dtypes: object(3)\n",
      "memory usage: 704.2+ KB\n"
     ]
    }
   ],
   "source": [
    "df_reaction.info()"
   ]
  },
  {
   "cell_type": "code",
   "execution_count": 95,
   "id": "3d7f273a-bddf-480c-9c2e-04aaf69f8800",
   "metadata": {},
   "outputs": [],
   "source": [
    "df_reaction.to_csv(\"cleaned_reaction\",index=False)"
   ]
  },
  {
   "cell_type": "markdown",
   "id": "c584d328-adef-4af1-88a5-064ebd84d906",
   "metadata": {},
   "source": [
    "Reaction Types"
   ]
  },
  {
   "cell_type": "code",
   "execution_count": 75,
   "id": "415dd30b-ed4e-41fc-8b55-754d2bbd885d",
   "metadata": {},
   "outputs": [
    {
     "data": {
      "text/html": [
       "<div>\n",
       "<style scoped>\n",
       "    .dataframe tbody tr th:only-of-type {\n",
       "        vertical-align: middle;\n",
       "    }\n",
       "\n",
       "    .dataframe tbody tr th {\n",
       "        vertical-align: top;\n",
       "    }\n",
       "\n",
       "    .dataframe thead th {\n",
       "        text-align: right;\n",
       "    }\n",
       "</style>\n",
       "<table border=\"1\" class=\"dataframe\">\n",
       "  <thead>\n",
       "    <tr style=\"text-align: right;\">\n",
       "      <th></th>\n",
       "      <th>Unnamed: 0</th>\n",
       "      <th>Type</th>\n",
       "      <th>Sentiment</th>\n",
       "      <th>Score</th>\n",
       "    </tr>\n",
       "  </thead>\n",
       "  <tbody>\n",
       "    <tr>\n",
       "      <th>13</th>\n",
       "      <td>13</td>\n",
       "      <td>peeking</td>\n",
       "      <td>neutral</td>\n",
       "      <td>35</td>\n",
       "    </tr>\n",
       "    <tr>\n",
       "      <th>6</th>\n",
       "      <td>6</td>\n",
       "      <td>love</td>\n",
       "      <td>positive</td>\n",
       "      <td>65</td>\n",
       "    </tr>\n",
       "    <tr>\n",
       "      <th>3</th>\n",
       "      <td>3</td>\n",
       "      <td>hate</td>\n",
       "      <td>negative</td>\n",
       "      <td>5</td>\n",
       "    </tr>\n",
       "    <tr>\n",
       "      <th>1</th>\n",
       "      <td>1</td>\n",
       "      <td>want</td>\n",
       "      <td>positive</td>\n",
       "      <td>70</td>\n",
       "    </tr>\n",
       "    <tr>\n",
       "      <th>0</th>\n",
       "      <td>0</td>\n",
       "      <td>heart</td>\n",
       "      <td>positive</td>\n",
       "      <td>60</td>\n",
       "    </tr>\n",
       "  </tbody>\n",
       "</table>\n",
       "</div>"
      ],
      "text/plain": [
       "    Unnamed: 0     Type Sentiment  Score\n",
       "13          13  peeking   neutral     35\n",
       "6            6     love  positive     65\n",
       "3            3     hate  negative      5\n",
       "1            1     want  positive     70\n",
       "0            0    heart  positive     60"
      ]
     },
     "execution_count": 75,
     "metadata": {},
     "output_type": "execute_result"
    }
   ],
   "source": [
    "df_reactionType=pd.read_csv(r\"ReactionTypes.csv\")\n",
    "df_reactionType.sample(5)"
   ]
  },
  {
   "cell_type": "code",
   "execution_count": 96,
   "id": "6b3bb063-a407-4116-a1b7-71da0051317a",
   "metadata": {},
   "outputs": [
    {
     "name": "stdout",
     "output_type": "stream",
     "text": [
      "<class 'pandas.core.frame.DataFrame'>\n",
      "RangeIndex: 16 entries, 0 to 15\n",
      "Data columns (total 3 columns):\n",
      " #   Column         Non-Null Count  Dtype \n",
      "---  ------         --------------  ----- \n",
      " 0   Reaction Type  16 non-null     object\n",
      " 1   Sentiment      16 non-null     object\n",
      " 2   Score          16 non-null     int64 \n",
      "dtypes: int64(1), object(2)\n",
      "memory usage: 516.0+ bytes\n"
     ]
    }
   ],
   "source": [
    "# df_reactionType.drop(columns=\"Unnamed: 0\",inplace=True)\n",
    "df_reactionType.rename(columns={\"Type\":\"Reaction Type\"},inplace=True)\n",
    "df_reactionType.info()"
   ]
  },
  {
   "cell_type": "code",
   "execution_count": 85,
   "id": "2fb5c047-c9ca-4b97-9a03-d56ab7641313",
   "metadata": {},
   "outputs": [
    {
     "data": {
      "text/plain": [
       "3"
      ]
     },
     "execution_count": 85,
     "metadata": {},
     "output_type": "execute_result"
    }
   ],
   "source": [
    "# df_reactionType['Type'].nunique()\n",
    "df_reactionType['Sentiment'].nunique()\n",
    "# df_reactionType['Score'].nunique()"
   ]
  },
  {
   "cell_type": "code",
   "execution_count": 87,
   "id": "a66f1d9e-3ea2-4c83-a04d-47d2e61e1147",
   "metadata": {},
   "outputs": [
    {
     "data": {
      "text/html": [
       "<div>\n",
       "<style scoped>\n",
       "    .dataframe tbody tr th:only-of-type {\n",
       "        vertical-align: middle;\n",
       "    }\n",
       "\n",
       "    .dataframe tbody tr th {\n",
       "        vertical-align: top;\n",
       "    }\n",
       "\n",
       "    .dataframe thead th {\n",
       "        text-align: right;\n",
       "    }\n",
       "</style>\n",
       "<table border=\"1\" class=\"dataframe\">\n",
       "  <thead>\n",
       "    <tr style=\"text-align: right;\">\n",
       "      <th></th>\n",
       "      <th>Type</th>\n",
       "      <th>Sentiment</th>\n",
       "      <th>Score</th>\n",
       "    </tr>\n",
       "  </thead>\n",
       "  <tbody>\n",
       "    <tr>\n",
       "      <th>0</th>\n",
       "      <td>heart</td>\n",
       "      <td>positive</td>\n",
       "      <td>60</td>\n",
       "    </tr>\n",
       "    <tr>\n",
       "      <th>1</th>\n",
       "      <td>want</td>\n",
       "      <td>positive</td>\n",
       "      <td>70</td>\n",
       "    </tr>\n",
       "    <tr>\n",
       "      <th>2</th>\n",
       "      <td>disgust</td>\n",
       "      <td>negative</td>\n",
       "      <td>0</td>\n",
       "    </tr>\n",
       "    <tr>\n",
       "      <th>3</th>\n",
       "      <td>hate</td>\n",
       "      <td>negative</td>\n",
       "      <td>5</td>\n",
       "    </tr>\n",
       "    <tr>\n",
       "      <th>4</th>\n",
       "      <td>interested</td>\n",
       "      <td>positive</td>\n",
       "      <td>30</td>\n",
       "    </tr>\n",
       "    <tr>\n",
       "      <th>5</th>\n",
       "      <td>indifferent</td>\n",
       "      <td>neutral</td>\n",
       "      <td>20</td>\n",
       "    </tr>\n",
       "    <tr>\n",
       "      <th>6</th>\n",
       "      <td>love</td>\n",
       "      <td>positive</td>\n",
       "      <td>65</td>\n",
       "    </tr>\n",
       "    <tr>\n",
       "      <th>7</th>\n",
       "      <td>super love</td>\n",
       "      <td>positive</td>\n",
       "      <td>75</td>\n",
       "    </tr>\n",
       "    <tr>\n",
       "      <th>8</th>\n",
       "      <td>cherish</td>\n",
       "      <td>positive</td>\n",
       "      <td>70</td>\n",
       "    </tr>\n",
       "    <tr>\n",
       "      <th>9</th>\n",
       "      <td>adore</td>\n",
       "      <td>positive</td>\n",
       "      <td>72</td>\n",
       "    </tr>\n",
       "    <tr>\n",
       "      <th>10</th>\n",
       "      <td>like</td>\n",
       "      <td>positive</td>\n",
       "      <td>50</td>\n",
       "    </tr>\n",
       "    <tr>\n",
       "      <th>11</th>\n",
       "      <td>dislike</td>\n",
       "      <td>negative</td>\n",
       "      <td>10</td>\n",
       "    </tr>\n",
       "    <tr>\n",
       "      <th>12</th>\n",
       "      <td>intrigued</td>\n",
       "      <td>positive</td>\n",
       "      <td>45</td>\n",
       "    </tr>\n",
       "    <tr>\n",
       "      <th>13</th>\n",
       "      <td>peeking</td>\n",
       "      <td>neutral</td>\n",
       "      <td>35</td>\n",
       "    </tr>\n",
       "    <tr>\n",
       "      <th>14</th>\n",
       "      <td>scared</td>\n",
       "      <td>negative</td>\n",
       "      <td>15</td>\n",
       "    </tr>\n",
       "    <tr>\n",
       "      <th>15</th>\n",
       "      <td>worried</td>\n",
       "      <td>negative</td>\n",
       "      <td>12</td>\n",
       "    </tr>\n",
       "  </tbody>\n",
       "</table>\n",
       "</div>"
      ],
      "text/plain": [
       "           Type Sentiment  Score\n",
       "0         heart  positive     60\n",
       "1          want  positive     70\n",
       "2       disgust  negative      0\n",
       "3          hate  negative      5\n",
       "4    interested  positive     30\n",
       "5   indifferent   neutral     20\n",
       "6          love  positive     65\n",
       "7    super love  positive     75\n",
       "8       cherish  positive     70\n",
       "9         adore  positive     72\n",
       "10         like  positive     50\n",
       "11      dislike  negative     10\n",
       "12    intrigued  positive     45\n",
       "13      peeking   neutral     35\n",
       "14       scared  negative     15\n",
       "15      worried  negative     12"
      ]
     },
     "execution_count": 87,
     "metadata": {},
     "output_type": "execute_result"
    }
   ],
   "source": [
    "df_reactionType"
   ]
  },
  {
   "cell_type": "code",
   "execution_count": 97,
   "id": "36da99b0-2752-4ed2-97bb-56e171055dcd",
   "metadata": {},
   "outputs": [],
   "source": [
    "df_reactionType.to_csv(\"cleaned_ReactionType\",index=False)"
   ]
  }
 ],
 "metadata": {
  "kernelspec": {
   "display_name": "Python 3 (ipykernel)",
   "language": "python",
   "name": "python3"
  },
  "language_info": {
   "codemirror_mode": {
    "name": "ipython",
    "version": 3
   },
   "file_extension": ".py",
   "mimetype": "text/x-python",
   "name": "python",
   "nbconvert_exporter": "python",
   "pygments_lexer": "ipython3",
   "version": "3.11.9"
  }
 },
 "nbformat": 4,
 "nbformat_minor": 5
}
