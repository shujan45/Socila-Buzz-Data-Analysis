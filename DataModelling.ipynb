{
 "cells": [
  {
   "cell_type": "code",
   "execution_count": 2,
   "id": "3a69fc6a-d5ec-4bac-812a-68b7bb78704e",
   "metadata": {},
   "outputs": [],
   "source": [
    "import pandas as pd"
   ]
  },
  {
   "cell_type": "code",
   "execution_count": 53,
   "id": "6ed7afd2-fba5-4c0f-8fdb-4fed47054cd6",
   "metadata": {},
   "outputs": [],
   "source": [
    "df_content=pd.read_csv(r\"Cleaned_content.csv\",index_col=None)\n",
    "df_reaction=pd.read_csv(r\"cleaned_reaction.csv\",index_col=None)\n",
    "df_reactionType=pd.read_csv(r\"cleaned_ReactionType.csv\",index_col=None)"
   ]
  },
  {
   "cell_type": "code",
   "execution_count": 51,
   "id": "2d94f186-c95b-48aa-90d3-439b09d119f2",
   "metadata": {},
   "outputs": [
    {
     "name": "stdout",
     "output_type": "stream",
     "text": [
      "<class 'pandas.core.frame.DataFrame'>\n",
      "RangeIndex: 801 entries, 0 to 800\n",
      "Data columns (total 4 columns):\n",
      " #   Column        Non-Null Count  Dtype \n",
      "---  ------        --------------  ----- \n",
      " 0   Content ID    801 non-null    object\n",
      " 1   Content Type  801 non-null    object\n",
      " 2   Category      801 non-null    object\n",
      " 3   URL           801 non-null    object\n",
      "dtypes: object(4)\n",
      "memory usage: 25.2+ KB\n"
     ]
    }
   ],
   "source": [
    "df_content.info()"
   ]
  },
  {
   "cell_type": "code",
   "execution_count": 54,
   "id": "c1265688-404d-402d-bdc6-eadd82cc5902",
   "metadata": {},
   "outputs": [
    {
     "name": "stdout",
     "output_type": "stream",
     "text": [
      "<class 'pandas.core.frame.DataFrame'>\n",
      "RangeIndex: 22534 entries, 0 to 22533\n",
      "Data columns (total 3 columns):\n",
      " #   Column         Non-Null Count  Dtype \n",
      "---  ------         --------------  ----- \n",
      " 0   Content ID     22534 non-null  object\n",
      " 1   Reaction Type  22534 non-null  object\n",
      " 2   Datetime       22534 non-null  object\n",
      "dtypes: object(3)\n",
      "memory usage: 528.3+ KB\n"
     ]
    }
   ],
   "source": [
    "df_reaction.info()"
   ]
  },
  {
   "cell_type": "code",
   "execution_count": 72,
   "id": "09b39a9d-e48e-44e7-8546-0c609621bead",
   "metadata": {},
   "outputs": [
    {
     "data": {
      "text/html": [
       "<div>\n",
       "<style scoped>\n",
       "    .dataframe tbody tr th:only-of-type {\n",
       "        vertical-align: middle;\n",
       "    }\n",
       "\n",
       "    .dataframe tbody tr th {\n",
       "        vertical-align: top;\n",
       "    }\n",
       "\n",
       "    .dataframe thead th {\n",
       "        text-align: right;\n",
       "    }\n",
       "</style>\n",
       "<table border=\"1\" class=\"dataframe\">\n",
       "  <thead>\n",
       "    <tr style=\"text-align: right;\">\n",
       "      <th></th>\n",
       "      <th>Content ID</th>\n",
       "      <th>Reaction Type</th>\n",
       "      <th>Datetime</th>\n",
       "      <th>Content Type</th>\n",
       "      <th>Category</th>\n",
       "      <th>URL</th>\n",
       "    </tr>\n",
       "  </thead>\n",
       "  <tbody>\n",
       "    <tr>\n",
       "      <th>0</th>\n",
       "      <td>97522e57-d9ab-4bd6-97bf-c24d952602d2</td>\n",
       "      <td>disgust</td>\n",
       "      <td>2020-11-07 09:43:50</td>\n",
       "      <td>photo</td>\n",
       "      <td>Studying</td>\n",
       "      <td>https://socialbuzz.cdn.com/content/storage/975...</td>\n",
       "    </tr>\n",
       "    <tr>\n",
       "      <th>1</th>\n",
       "      <td>97522e57-d9ab-4bd6-97bf-c24d952602d2</td>\n",
       "      <td>dislike</td>\n",
       "      <td>2021-06-17 12:22:51</td>\n",
       "      <td>photo</td>\n",
       "      <td>Studying</td>\n",
       "      <td>https://socialbuzz.cdn.com/content/storage/975...</td>\n",
       "    </tr>\n",
       "    <tr>\n",
       "      <th>2</th>\n",
       "      <td>97522e57-d9ab-4bd6-97bf-c24d952602d2</td>\n",
       "      <td>scared</td>\n",
       "      <td>2021-04-18 05:13:58</td>\n",
       "      <td>photo</td>\n",
       "      <td>Studying</td>\n",
       "      <td>https://socialbuzz.cdn.com/content/storage/975...</td>\n",
       "    </tr>\n",
       "    <tr>\n",
       "      <th>3</th>\n",
       "      <td>97522e57-d9ab-4bd6-97bf-c24d952602d2</td>\n",
       "      <td>disgust</td>\n",
       "      <td>2021-01-06 19:13:01</td>\n",
       "      <td>photo</td>\n",
       "      <td>Studying</td>\n",
       "      <td>https://socialbuzz.cdn.com/content/storage/975...</td>\n",
       "    </tr>\n",
       "    <tr>\n",
       "      <th>4</th>\n",
       "      <td>97522e57-d9ab-4bd6-97bf-c24d952602d2</td>\n",
       "      <td>interested</td>\n",
       "      <td>2020-08-23 12:25:58</td>\n",
       "      <td>photo</td>\n",
       "      <td>Studying</td>\n",
       "      <td>https://socialbuzz.cdn.com/content/storage/975...</td>\n",
       "    </tr>\n",
       "    <tr>\n",
       "      <th>...</th>\n",
       "      <td>...</td>\n",
       "      <td>...</td>\n",
       "      <td>...</td>\n",
       "      <td>...</td>\n",
       "      <td>...</td>\n",
       "      <td>...</td>\n",
       "    </tr>\n",
       "    <tr>\n",
       "      <th>18379</th>\n",
       "      <td>75d6b589-7fae-4a6d-b0d0-752845150e56</td>\n",
       "      <td>worried</td>\n",
       "      <td>2020-10-31 04:50:14</td>\n",
       "      <td>audio</td>\n",
       "      <td>technology</td>\n",
       "      <td>https://socialbuzz.cdn.com/content/storage/75d...</td>\n",
       "    </tr>\n",
       "    <tr>\n",
       "      <th>18380</th>\n",
       "      <td>75d6b589-7fae-4a6d-b0d0-752845150e56</td>\n",
       "      <td>dislike</td>\n",
       "      <td>2020-06-27 09:46:48</td>\n",
       "      <td>audio</td>\n",
       "      <td>technology</td>\n",
       "      <td>https://socialbuzz.cdn.com/content/storage/75d...</td>\n",
       "    </tr>\n",
       "    <tr>\n",
       "      <th>18381</th>\n",
       "      <td>75d6b589-7fae-4a6d-b0d0-752845150e56</td>\n",
       "      <td>intrigued</td>\n",
       "      <td>2021-02-16 17:17:02</td>\n",
       "      <td>audio</td>\n",
       "      <td>technology</td>\n",
       "      <td>https://socialbuzz.cdn.com/content/storage/75d...</td>\n",
       "    </tr>\n",
       "    <tr>\n",
       "      <th>18382</th>\n",
       "      <td>75d6b589-7fae-4a6d-b0d0-752845150e56</td>\n",
       "      <td>worried</td>\n",
       "      <td>2020-11-04 20:08:31</td>\n",
       "      <td>audio</td>\n",
       "      <td>technology</td>\n",
       "      <td>https://socialbuzz.cdn.com/content/storage/75d...</td>\n",
       "    </tr>\n",
       "    <tr>\n",
       "      <th>18383</th>\n",
       "      <td>75d6b589-7fae-4a6d-b0d0-752845150e56</td>\n",
       "      <td>cherish</td>\n",
       "      <td>2021-01-04 04:55:11</td>\n",
       "      <td>audio</td>\n",
       "      <td>technology</td>\n",
       "      <td>https://socialbuzz.cdn.com/content/storage/75d...</td>\n",
       "    </tr>\n",
       "  </tbody>\n",
       "</table>\n",
       "<p>18384 rows × 6 columns</p>\n",
       "</div>"
      ],
      "text/plain": [
       "                                 Content ID Reaction Type  \\\n",
       "0      97522e57-d9ab-4bd6-97bf-c24d952602d2       disgust   \n",
       "1      97522e57-d9ab-4bd6-97bf-c24d952602d2       dislike   \n",
       "2      97522e57-d9ab-4bd6-97bf-c24d952602d2        scared   \n",
       "3      97522e57-d9ab-4bd6-97bf-c24d952602d2       disgust   \n",
       "4      97522e57-d9ab-4bd6-97bf-c24d952602d2    interested   \n",
       "...                                     ...           ...   \n",
       "18379  75d6b589-7fae-4a6d-b0d0-752845150e56       worried   \n",
       "18380  75d6b589-7fae-4a6d-b0d0-752845150e56       dislike   \n",
       "18381  75d6b589-7fae-4a6d-b0d0-752845150e56     intrigued   \n",
       "18382  75d6b589-7fae-4a6d-b0d0-752845150e56       worried   \n",
       "18383  75d6b589-7fae-4a6d-b0d0-752845150e56       cherish   \n",
       "\n",
       "                  Datetime Content Type    Category  \\\n",
       "0      2020-11-07 09:43:50        photo    Studying   \n",
       "1      2021-06-17 12:22:51        photo    Studying   \n",
       "2      2021-04-18 05:13:58        photo    Studying   \n",
       "3      2021-01-06 19:13:01        photo    Studying   \n",
       "4      2020-08-23 12:25:58        photo    Studying   \n",
       "...                    ...          ...         ...   \n",
       "18379  2020-10-31 04:50:14        audio  technology   \n",
       "18380  2020-06-27 09:46:48        audio  technology   \n",
       "18381  2021-02-16 17:17:02        audio  technology   \n",
       "18382  2020-11-04 20:08:31        audio  technology   \n",
       "18383  2021-01-04 04:55:11        audio  technology   \n",
       "\n",
       "                                                     URL  \n",
       "0      https://socialbuzz.cdn.com/content/storage/975...  \n",
       "1      https://socialbuzz.cdn.com/content/storage/975...  \n",
       "2      https://socialbuzz.cdn.com/content/storage/975...  \n",
       "3      https://socialbuzz.cdn.com/content/storage/975...  \n",
       "4      https://socialbuzz.cdn.com/content/storage/975...  \n",
       "...                                                  ...  \n",
       "18379  https://socialbuzz.cdn.com/content/storage/75d...  \n",
       "18380  https://socialbuzz.cdn.com/content/storage/75d...  \n",
       "18381  https://socialbuzz.cdn.com/content/storage/75d...  \n",
       "18382  https://socialbuzz.cdn.com/content/storage/75d...  \n",
       "18383  https://socialbuzz.cdn.com/content/storage/75d...  \n",
       "\n",
       "[18384 rows x 6 columns]"
      ]
     },
     "execution_count": 72,
     "metadata": {},
     "output_type": "execute_result"
    }
   ],
   "source": [
    "merged_df = pd.merge(df_reaction, df_content, on='Content ID', how='inner')\n",
    "merged_df"
   ]
  },
  {
   "cell_type": "code",
   "execution_count": 73,
   "id": "6e41515a-3ed7-4c5e-967d-cefaa8418e8f",
   "metadata": {},
   "outputs": [],
   "source": [
    "final_df = pd.merge(merged_df, df_reactionType, on='Reaction Type', how='inner')"
   ]
  },
  {
   "cell_type": "code",
   "execution_count": 74,
   "id": "ffae5f57-6b7d-4a60-ba59-0d6f0c8cffac",
   "metadata": {},
   "outputs": [
    {
     "data": {
      "text/html": [
       "<div>\n",
       "<style scoped>\n",
       "    .dataframe tbody tr th:only-of-type {\n",
       "        vertical-align: middle;\n",
       "    }\n",
       "\n",
       "    .dataframe tbody tr th {\n",
       "        vertical-align: top;\n",
       "    }\n",
       "\n",
       "    .dataframe thead th {\n",
       "        text-align: right;\n",
       "    }\n",
       "</style>\n",
       "<table border=\"1\" class=\"dataframe\">\n",
       "  <thead>\n",
       "    <tr style=\"text-align: right;\">\n",
       "      <th></th>\n",
       "      <th>Content ID</th>\n",
       "      <th>Reaction Type</th>\n",
       "      <th>Datetime</th>\n",
       "      <th>Content Type</th>\n",
       "      <th>Category</th>\n",
       "      <th>URL</th>\n",
       "      <th>Sentiment</th>\n",
       "      <th>Score</th>\n",
       "    </tr>\n",
       "  </thead>\n",
       "  <tbody>\n",
       "    <tr>\n",
       "      <th>9193</th>\n",
       "      <td>b400ea0c-43f0-4307-a3b2-78e5784d69be</td>\n",
       "      <td>indifferent</td>\n",
       "      <td>2020-08-31 10:54:26</td>\n",
       "      <td>audio</td>\n",
       "      <td>fitness</td>\n",
       "      <td>https://socialbuzz.cdn.com/content/storage/b40...</td>\n",
       "      <td>neutral</td>\n",
       "      <td>20</td>\n",
       "    </tr>\n",
       "    <tr>\n",
       "      <th>1291</th>\n",
       "      <td>258bb775-3c35-4eec-90f3-8b75a52e466a</td>\n",
       "      <td>like</td>\n",
       "      <td>2020-10-25 23:08:18</td>\n",
       "      <td>photo</td>\n",
       "      <td>education</td>\n",
       "      <td>https://socialbuzz.cdn.com/content/storage/258...</td>\n",
       "      <td>positive</td>\n",
       "      <td>50</td>\n",
       "    </tr>\n",
       "    <tr>\n",
       "      <th>15370</th>\n",
       "      <td>1b6f05f1-df9e-4ad4-989e-029baf20478f</td>\n",
       "      <td>hate</td>\n",
       "      <td>2021-01-22 07:57:35</td>\n",
       "      <td>audio</td>\n",
       "      <td>fitness</td>\n",
       "      <td>https://socialbuzz.cdn.com/content/storage/1b6...</td>\n",
       "      <td>negative</td>\n",
       "      <td>5</td>\n",
       "    </tr>\n",
       "    <tr>\n",
       "      <th>9444</th>\n",
       "      <td>c82d3a99-3d11-407d-9648-9f9560f40d7f</td>\n",
       "      <td>adore</td>\n",
       "      <td>2020-07-28 16:24:39</td>\n",
       "      <td>photo</td>\n",
       "      <td>travel</td>\n",
       "      <td>https://socialbuzz.cdn.com/content/storage/c82...</td>\n",
       "      <td>positive</td>\n",
       "      <td>72</td>\n",
       "    </tr>\n",
       "    <tr>\n",
       "      <th>14449</th>\n",
       "      <td>96ece45a-89e4-4cf8-b216-c860bf8e158e</td>\n",
       "      <td>worried</td>\n",
       "      <td>2020-11-17 22:10:51</td>\n",
       "      <td>photo</td>\n",
       "      <td>food</td>\n",
       "      <td>https://socialbuzz.cdn.com/content/storage/96e...</td>\n",
       "      <td>negative</td>\n",
       "      <td>12</td>\n",
       "    </tr>\n",
       "  </tbody>\n",
       "</table>\n",
       "</div>"
      ],
      "text/plain": [
       "                                 Content ID Reaction Type  \\\n",
       "9193   b400ea0c-43f0-4307-a3b2-78e5784d69be   indifferent   \n",
       "1291   258bb775-3c35-4eec-90f3-8b75a52e466a          like   \n",
       "15370  1b6f05f1-df9e-4ad4-989e-029baf20478f          hate   \n",
       "9444   c82d3a99-3d11-407d-9648-9f9560f40d7f         adore   \n",
       "14449  96ece45a-89e4-4cf8-b216-c860bf8e158e       worried   \n",
       "\n",
       "                  Datetime Content Type   Category  \\\n",
       "9193   2020-08-31 10:54:26        audio    fitness   \n",
       "1291   2020-10-25 23:08:18        photo  education   \n",
       "15370  2021-01-22 07:57:35        audio    fitness   \n",
       "9444   2020-07-28 16:24:39        photo     travel   \n",
       "14449  2020-11-17 22:10:51        photo       food   \n",
       "\n",
       "                                                     URL Sentiment  Score  \n",
       "9193   https://socialbuzz.cdn.com/content/storage/b40...   neutral     20  \n",
       "1291   https://socialbuzz.cdn.com/content/storage/258...  positive     50  \n",
       "15370  https://socialbuzz.cdn.com/content/storage/1b6...  negative      5  \n",
       "9444   https://socialbuzz.cdn.com/content/storage/c82...  positive     72  \n",
       "14449  https://socialbuzz.cdn.com/content/storage/96e...  negative     12  "
      ]
     },
     "execution_count": 74,
     "metadata": {},
     "output_type": "execute_result"
    }
   ],
   "source": [
    "final_df.sample(5)"
   ]
  },
  {
   "cell_type": "code",
   "execution_count": 75,
   "id": "538f5166-3ad0-4481-a933-ccfab6684dbf",
   "metadata": {},
   "outputs": [],
   "source": [
    "final_df['Category']=final_df['Category'].str.lower()"
   ]
  },
  {
   "cell_type": "code",
   "execution_count": 76,
   "id": "5873d45c-132b-4b14-a539-f65785c4ef69",
   "metadata": {},
   "outputs": [],
   "source": [
    "final_df.to_csv(\"Merged CSV.csv\",index=False)"
   ]
  },
  {
   "cell_type": "code",
   "execution_count": 77,
   "id": "df5fc89e-cf33-4a88-8176-0eb7cb22b3f2",
   "metadata": {},
   "outputs": [
    {
     "data": {
      "text/plain": [
       "Category\n",
       "travel            53935\n",
       "science           53657\n",
       "healthy eating    52745\n",
       "animals           52443\n",
       "cooking           49681\n",
       "Name: Score, dtype: int64"
      ]
     },
     "execution_count": 77,
     "metadata": {},
     "output_type": "execute_result"
    }
   ],
   "source": [
    "top_5_category=final_df.groupby(['Category'])['Score'].sum().sort_values(ascending=False).head(5)\n",
    "top_5_category"
   ]
  },
  {
   "cell_type": "markdown",
   "id": "904ea02f-fb55-46d6-a5c6-7dc149fba403",
   "metadata": {},
   "source": [
    "So the top five category for reaction are Travel, Science, Healthy Eating, Animals, and Cooking"
   ]
  },
  {
   "cell_type": "code",
   "execution_count": 78,
   "id": "7e295e02-8384-4189-aebf-537a38efc79c",
   "metadata": {},
   "outputs": [],
   "source": [
    "top_5_category.to_csv(\"Top 5 Reaction Category.csv\",encoding=\"ansi\",index=True)"
   ]
  },
  {
   "cell_type": "code",
   "execution_count": 80,
   "id": "e4bb579d-fb86-4981-a966-c42aedbf1fa0",
   "metadata": {},
   "outputs": [
    {
     "name": "stdout",
     "output_type": "stream",
     "text": [
      "Data combined into combined_data.xlsx\n"
     ]
    }
   ],
   "source": [
    "with pd.ExcelWriter(\"Result.xlsx\") as writer:  # The 'with' statement ensures proper file closing\n",
    "    # Write the cleaned dataset to the first sheet ('Cleaned Data')\n",
    "    merged_df.to_excel(writer, sheet_name=\"Cleaned Data\", index=False)  # index=False to avoid writing the index\n",
    "\n",
    "    # Write the top 5 categories to the second sheet ('Top 5 Categories')\n",
    "    top_5_category.to_excel(writer, sheet_name=\"Top 5 Categories\", index=True)\n",
    "\n",
    "print(\"Data combined into combined_data.xlsx\")"
   ]
  },
  {
   "cell_type": "code",
   "execution_count": 65,
   "id": "da187e21-34bd-459c-b75f-3db3f49bad30",
   "metadata": {},
   "outputs": [
    {
     "name": "stdout",
     "output_type": "stream",
     "text": [
      "Collecting openpyxl"
     ]
    },
    {
     "name": "stderr",
     "output_type": "stream",
     "text": [
      "\n",
      "[notice] A new release of pip is available: 24.0 -> 25.0\n",
      "[notice] To update, run: C:\\Users\\Dell\\AppData\\Local\\Microsoft\\WindowsApps\\PythonSoftwareFoundation.Python.3.11_qbz5n2kfra8p0\\python.exe -m pip install --upgrade pip\n"
     ]
    },
    {
     "name": "stdout",
     "output_type": "stream",
     "text": [
      "\n",
      "  Downloading openpyxl-3.1.5-py2.py3-none-any.whl.metadata (2.5 kB)\n",
      "Collecting et-xmlfile (from openpyxl)\n",
      "  Downloading et_xmlfile-2.0.0-py3-none-any.whl.metadata (2.7 kB)\n",
      "Downloading openpyxl-3.1.5-py2.py3-none-any.whl (250 kB)\n",
      "   ---------------------------------------- 0.0/250.9 kB ? eta -:--:--\n",
      "   - -------------------------------------- 10.2/250.9 kB ? eta -:--:--\n",
      "   - -------------------------------------- 10.2/250.9 kB ? eta -:--:--\n",
      "   ---- ---------------------------------- 30.7/250.9 kB 187.9 kB/s eta 0:00:02\n",
      "   ------ -------------------------------- 41.0/250.9 kB 196.9 kB/s eta 0:00:02\n",
      "   ------ -------------------------------- 41.0/250.9 kB 196.9 kB/s eta 0:00:02\n",
      "   ------ -------------------------------- 41.0/250.9 kB 196.9 kB/s eta 0:00:02\n",
      "   ----------- --------------------------- 71.7/250.9 kB 231.8 kB/s eta 0:00:01\n",
      "   ----------------- -------------------- 112.6/250.9 kB 285.2 kB/s eta 0:00:01\n",
      "   ------------------ ------------------- 122.9/250.9 kB 300.4 kB/s eta 0:00:01\n",
      "   --------------------- ---------------- 143.4/250.9 kB 304.6 kB/s eta 0:00:01\n",
      "   --------------------- ---------------- 143.4/250.9 kB 304.6 kB/s eta 0:00:01\n",
      "   -------------------------- ----------- 174.1/250.9 kB 318.1 kB/s eta 0:00:01\n",
      "   -------------------------------------- 250.9/250.9 kB 405.9 kB/s eta 0:00:00\n",
      "Downloading et_xmlfile-2.0.0-py3-none-any.whl (18 kB)\n",
      "Installing collected packages: et-xmlfile, openpyxl\n",
      "Successfully installed et-xmlfile-2.0.0 openpyxl-3.1.5\n"
     ]
    }
   ],
   "source": [
    "!pip install openpyxl\n"
   ]
  }
 ],
 "metadata": {
  "kernelspec": {
   "display_name": "Python 3 (ipykernel)",
   "language": "python",
   "name": "python3"
  },
  "language_info": {
   "codemirror_mode": {
    "name": "ipython",
    "version": 3
   },
   "file_extension": ".py",
   "mimetype": "text/x-python",
   "name": "python",
   "nbconvert_exporter": "python",
   "pygments_lexer": "ipython3",
   "version": "3.11.9"
  }
 },
 "nbformat": 4,
 "nbformat_minor": 5
}
